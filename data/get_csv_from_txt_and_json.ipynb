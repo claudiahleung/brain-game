{
 "cells": [
  {
   "cell_type": "code",
   "execution_count": 6,
   "metadata": {},
   "outputs": [],
   "source": [
    "import pandas as pd\n",
    "import numpy as np\n",
    "\n",
    "from bisect import bisect_left\n",
    "\n",
    "import json\n",
    "\n",
    "import os\n",
    "import re"
   ]
  },
  {
   "cell_type": "code",
   "execution_count": 7,
   "metadata": {},
   "outputs": [],
   "source": [
    "# path to data folder\n",
    "path_data = '.'\n",
    "\n",
    "# for filtering, list of dates in yyyy-mm-dd format\n",
    "dates = ['2019-08-29']"
   ]
  },
  {
   "cell_type": "code",
   "execution_count": 8,
   "metadata": {},
   "outputs": [],
   "source": [
    "def get_data_files(path_data, end='.csv'):\n",
    "    \n",
    "    # set up regex\n",
    "    r_date = '\\d{4}-\\d{2}-\\d{2}'\n",
    "    r_subject = '^\\d{3}'\n",
    "    r_trial = '[tT]rial\\d+'\n",
    "    \n",
    "    # get folders\n",
    "    date_folders = [f for f in os.listdir(path_data) if (os.path.isdir(os.path.join(path_data, f)) and re.match(r_date, f))]\n",
    "    date_folders.sort()\n",
    "    \n",
    "    data = []\n",
    "\n",
    "    for folder in date_folders:\n",
    "\n",
    "        # get csv files from date folder\n",
    "        files = [f for f in os.listdir(os.path.join(path_data, folder)) if f.endswith(end)]\n",
    "        files.sort()\n",
    "\n",
    "        for file in files:\n",
    "\n",
    "            # get subject and trial numbers\n",
    "            subject = re.match(r_subject, file).group()\n",
    "            trial = re.search('\\d+', re.search(r_trial, file).group()).group()\n",
    "            \n",
    "            data.append({'subject':subject, 'date':folder, 'trial':trial, 'filename':file})\n",
    "            \n",
    "    # return dataframe\n",
    "    return pd.DataFrame(data)"
   ]
  },
  {
   "cell_type": "code",
   "execution_count": 9,
   "metadata": {},
   "outputs": [],
   "source": [
    "def find_closest_timestamp(timestamps, target, start=0):\n",
    "\n",
    "    index = bisect_left(timestamps, target, lo=start)\n",
    "    before = timestamps[index - 1]\n",
    "    after = timestamps[index]\n",
    "    \n",
    "    if after - target < target - before:\n",
    "        return index, after\n",
    "    else:\n",
    "        return index, before\n"
   ]
  },
  {
   "cell_type": "code",
   "execution_count": 10,
   "metadata": {
    "scrolled": false
   },
   "outputs": [
    {
     "name": "stdout",
     "output_type": "stream",
     "text": [
      "Found 104 csv files in 16 date folders\n",
      "Keeping 10 files after filtering for date(s)\n",
      "Found 1 empty csv file(s) that can be fixed\n",
      "\tFixed 2019-08-29/001-trial1-ssvep-2019-8-29-19-2-36-BAD.csv\n"
     ]
    }
   ],
   "source": [
    "df_files_csv = get_data_files(path_data)\n",
    "\n",
    "print('Found {} csv files in {} date folders'.format(len(df_files_csv), len(df_files_csv['date'].unique())))\n",
    "\n",
    "# filter by date(s)\n",
    "if dates is not None:\n",
    "    df_files_csv = df_files_csv.loc[df_files_csv['date'].isin(dates)]\n",
    "    \n",
    "print('Keeping {} files after filtering for date(s)'.format(len(df_files_csv)))\n",
    "\n",
    "# get all txt and json files\n",
    "df_files_txt = get_data_files(path_data, end='.txt')\n",
    "df_files_json = get_data_files(path_data, end='.json')\n",
    "df_files_txt.rename(columns={'filename':'filename_txt'}, inplace=True)\n",
    "df_files_json.rename(columns={'filename':'filename_json'}, inplace=True)\n",
    "\n",
    "# keep only trials that have all three types of files\n",
    "merge_keys = ['subject', 'date', 'trial']\n",
    "df_files = df_files_csv.merge(df_files_json, how='inner', on=merge_keys)\n",
    "df_files = df_files.merge(df_files_txt, how='inner', on=merge_keys)\n",
    "\n",
    "# look for trials with empty csv file\n",
    "for index, row in df_files.iterrows():\n",
    "    if not pd.read_csv(os.path.join(path_data, row['date'], row['filename'])).shape[0] == 0:\n",
    "        df_files.drop(index=index, inplace=True)\n",
    "\n",
    "print('Found {} empty csv file(s) that can be fixed'.format(len(df_files)))\n",
    "\n",
    "columns_all = ['i_sample', 'Channel 1', 'Channel 2', 'Channel 3', 'Channel 4', 'Channel 5', 'Channel 6',\n",
    "               'Channel 7', 'Channel 8', 'Channel 9', 'Channel 10', 'Channel 11', 'Time_hours', 'Time']\n",
    "columns = ['Time', 'Channel 1', 'Channel 2', 'Channel 3', 'Channel 4',\n",
    "           'Channel 5','Channel 6', 'Channel 7', 'Channel 8']\n",
    "\n",
    "for index, row in df_files.iterrows(): \n",
    "    \n",
    "    subject = row['subject']\n",
    "    date = row['date']\n",
    "    trial = row['trial']\n",
    "    filename = row['filename']\n",
    "    filename_txt = row['filename_txt']\n",
    "    filename_json = row['filename_json']\n",
    "    \n",
    "    # load txt file\n",
    "    df_trial = pd.read_csv(os.path.join(path_data, date, filename_txt), names=columns_all, skiprows=6)\n",
    "    df_trial = df_trial.loc[:, columns]\n",
    "    \n",
    "    # load json file\n",
    "    with open(os.path.join(path_data, date, filename_json)) as file_json:\n",
    "        timestamps_json = json.load(file_json)\n",
    "        \n",
    "    df_trial['Direction'] = None\n",
    "    timestamps = df_trial['Time']\n",
    "    \n",
    "    start = 0\n",
    "    direction = None\n",
    "    for cue in timestamps_json:\n",
    "        \n",
    "        target = cue['time']\n",
    "        stop, timestamp = find_closest_timestamp(timestamps, target, start)\n",
    "        df_trial.loc[start:stop, 'Direction'] = direction\n",
    "        \n",
    "        start = stop\n",
    "        direction = cue['cue']\n",
    "            \n",
    "    df_trial.dropna(axis=0, how='any', inplace=True)\n",
    "    \n",
    "    df_trial.to_csv(os.path.join(path_data, date, '{}-trial{}-{}-FIXED.csv'.format(subject, trial, date)), index=False)\n",
    "    \n",
    "    print('\\tFixed {}'.format(os.path.join(date, filename)))\n"
   ]
  }
 ],
 "metadata": {
  "kernelspec": {
   "display_name": "Python 3",
   "language": "python",
   "name": "python3"
  },
  "language_info": {
   "codemirror_mode": {
    "name": "ipython",
    "version": 3
   },
   "file_extension": ".py",
   "mimetype": "text/x-python",
   "name": "python",
   "nbconvert_exporter": "python",
   "pygments_lexer": "ipython3",
   "version": "3.6.5"
  }
 },
 "nbformat": 4,
 "nbformat_minor": 2
}
